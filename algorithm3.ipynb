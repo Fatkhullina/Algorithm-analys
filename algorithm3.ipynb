{
 "cells": [
  {
   "cell_type": "markdown",
   "id": "3df8075d",
   "metadata": {},
   "source": [
    "Логистическая регрессия. Log Loss\n",
    "1. Измените функцию calc_logloss так, чтобы нули по возможности не попадали в np.log (как вариант - использовать np.clip или np.where).\n",
    "2. На данных из урока изучите влияние гиперпараметров на ошибку алгоритма.\n",
    "3. Создайте функцию calc_pred_proba, возвращающую предсказанную вероятность класса \"1\". На вход функции подаются значения признаков Х и веса, которые уже посчитаны функцией eval_LR_model.\n",
    "4. Создайте функцию calc_pred, возвращающую предсказанные классы (0 или 1). На вход функции подаются значения признаков Х и веса, которые уже посчитаны функцией eval_LR_model, а также порог вероятности."
   ]
  },
  {
   "cell_type": "code",
   "execution_count": 15,
   "id": "c597a4f4",
   "metadata": {},
   "outputs": [],
   "source": [
    "import numpy as np\n",
    "import matplotlib.pyplot as plt"
   ]
  },
  {
   "cell_type": "code",
   "execution_count": 16,
   "id": "f831f355",
   "metadata": {},
   "outputs": [],
   "source": [
    "X = np.array([ [   1,    1,  500,    1],\n",
    "               [   1,    1,  700,    1],\n",
    "               [   1,    2,  750,    2],\n",
    "               [   1,    5,  600,    1],\n",
    "               [   1,    3, 1450,    2],\n",
    "               [   1,    0,  800,    1],\n",
    "               [   1,    5, 1500,    3],\n",
    "               [   1,   10, 2000,    3],\n",
    "               [   1,    1,  450,    1],\n",
    "               [   1,    2, 1000,    2]], dtype=np.float64)\n",
    "\n",
    "y = np.array([0, 0, 1, 0, 1, 0, 1, 0, 1, 1], dtype=np.float64)"
   ]
  },
  {
   "cell_type": "code",
   "execution_count": 17,
   "id": "e48e0232",
   "metadata": {},
   "outputs": [],
   "source": [
    "def standard_scale(x):\n",
    "    res = (x - x.mean()) / x.std()\n",
    "    return res"
   ]
  },
  {
   "cell_type": "code",
   "execution_count": 18,
   "id": "bb287a78",
   "metadata": {},
   "outputs": [],
   "source": [
    "X_st = X.copy()\n",
    "X_st[:, 2] = standard_scale(X[:, 2])"
   ]
  },
  {
   "cell_type": "code",
   "execution_count": 22,
   "id": "34c3280a",
   "metadata": {},
   "outputs": [],
   "source": [
    "def calc_logloss(y, y_pred):\n",
    "    y_pred = np.clip(y_pred, 0.001, 0.999)\n",
    "    err = - np.mean(y * np.log(y_pred) + (1.0 - y) * np.log(1.0 - y_pred))\n",
    "    return err"
   ]
  },
  {
   "cell_type": "code",
   "execution_count": 23,
   "id": "84ff127f",
   "metadata": {},
   "outputs": [
    {
     "data": {
      "text/plain": [
       "0.11207202582389662"
      ]
     },
     "execution_count": 23,
     "metadata": {},
     "output_type": "execute_result"
    }
   ],
   "source": [
    "y1 = np.array([1, 0])\n",
    "y_pred1 = np.array([1, 0.2])\n",
    "calc_logloss(y1, y_pred1)"
   ]
  },
  {
   "cell_type": "markdown",
   "id": "52c89e60",
   "metadata": {},
   "source": [
    "2. На данных из урока изучите влияние гиперпараметров на ошибку алгоритма."
   ]
  },
  {
   "cell_type": "code",
   "execution_count": 24,
   "id": "5c98af77",
   "metadata": {},
   "outputs": [],
   "source": [
    "def sigmoid(z):\n",
    "    res = 1 / (1 + np.exp(-z))\n",
    "    return res"
   ]
  },
  {
   "cell_type": "code",
   "execution_count": 25,
   "id": "90baa0c0",
   "metadata": {},
   "outputs": [],
   "source": [
    "z = np.linspace(-10, 10, 101)"
   ]
  },
  {
   "cell_type": "code",
   "execution_count": 26,
   "id": "3b3197fc",
   "metadata": {},
   "outputs": [],
   "source": [
    "def eval_model(X, y, iterations, eta=1e-4):\n",
    "    np.random.seed(42)\n",
    "    W = np.random.randn(X.shape[1])\n",
    "    n = X.shape[0]\n",
    "    \n",
    "    for i in range(iterations):\n",
    "        z = np.dot(X, W)\n",
    "        y_pred = sigmoid(z)\n",
    "        err = calc_logloss(y, y_pred)\n",
    "        \n",
    "        dQ = 1/n * X.T @ (y_pred - y)\n",
    "        W -= eta * dQ\n",
    "        if i % (iterations / 10) == 0:\n",
    "            print(i, W, err)\n",
    "    return W"
   ]
  },
  {
   "cell_type": "code",
   "execution_count": 37,
   "id": "27bfa9ce",
   "metadata": {},
   "outputs": [
    {
     "name": "stdout",
     "output_type": "stream",
     "text": [
      "0 [ 0.45877546 -0.2833519   0.6449505   1.46641523] 1.1785958344356262\n",
      "60 [-0.0128424  -0.72688689  0.89143875  1.3544156 ] 0.48721469994554284\n",
      "120 [-0.24072722 -0.77003525  0.97127317  1.52658787] 0.4719426428429781\n",
      "180 [-0.43352513 -0.81071331  0.98851886  1.69748012] 0.46050085078302827\n",
      "240 [-0.61543205 -0.84254915  0.97970004  1.85235904] 0.4507791467362616\n",
      "300 [-0.79114327 -0.86672849  0.9559449   1.99242216] 0.44215550950847404\n",
      "360 [-0.96174463 -0.88506413  0.92235774  2.12056499] 0.4343123411025503\n",
      "420 [-1.12761197 -0.89902764  0.88202737  2.23923918] 0.4270675837765757\n",
      "480 [-1.28896325 -0.90972179  0.83707147  2.35030987] 0.42030973218301526\n",
      "540 [-1.44597215 -0.91796771  0.78901738  2.45518243] 0.41396619525012956\n"
     ]
    }
   ],
   "source": [
    "W = eval_model(X_st, y, iterations=600, eta=1e-1)"
   ]
  },
  {
   "cell_type": "markdown",
   "id": "a1e6adfa",
   "metadata": {},
   "source": [
    "Увеличение итераций сильно не влияет на скорость уменьшения ошибки. Уменьшение шага хорошо повлияло на скорость уменьшения ошибки."
   ]
  },
  {
   "cell_type": "markdown",
   "id": "ca095604",
   "metadata": {},
   "source": [
    "3. Создайте функцию calc_pred_proba, возвращающую предсказанную вероятность класса \"1\". На вход функции подаются значения признаков Х и веса, которые уже посчитаны функцией eval_LR_model."
   ]
  },
  {
   "cell_type": "code",
   "execution_count": 46,
   "id": "3203fcd8",
   "metadata": {},
   "outputs": [],
   "source": [
    "def calc_pred_proba(X, W):\n",
    "    y_pred_proba = sigmoid(np.dot(X, W))\n",
    "    return y_pred_proba"
   ]
  },
  {
   "cell_type": "code",
   "execution_count": 48,
   "id": "911356b3",
   "metadata": {},
   "outputs": [
    {
     "data": {
      "text/plain": [
       "array([0.33358741, 0.40447536, 0.7889237 , 0.014251  , 0.81186825,\n",
       "       0.66596935, 0.90406329, 0.16584816, 0.31684868, 0.84552038])"
      ]
     },
     "execution_count": 48,
     "metadata": {},
     "output_type": "execute_result"
    }
   ],
   "source": [
    "y_pred_proba = calc_pred_proba(X_st, W)\n",
    "y_pred_proba"
   ]
  },
  {
   "cell_type": "markdown",
   "id": "0944531e",
   "metadata": {},
   "source": [
    "4. Создайте функцию calc_pred, возвращающую предсказанные классы (0 или 1). На вход функции подаются значения признаков Х и веса, которые уже посчитаны функцией eval_LR_model, а также порог вероятности."
   ]
  },
  {
   "cell_type": "code",
   "execution_count": 49,
   "id": "9fa792ff",
   "metadata": {},
   "outputs": [],
   "source": [
    "def calc_pred(X, W, threshold):\n",
    "    m = X.shape[0]\n",
    "    \n",
    "    y_predicted = np.zeros(m)\n",
    "\n",
    "    y_pred_proba = sigmoid(np.dot(X, W))\n",
    "    \n",
    "    for i in range(X.shape[0]):\n",
    "        if (y_pred_proba[i] > threshold):\n",
    "            y_predicted[i] = 1\n",
    "        elif (y_pred_proba[i] <= threshold):\n",
    "            y_predicted[i] = 0\n",
    "            \n",
    "    return y_predicted"
   ]
  },
  {
   "cell_type": "code",
   "execution_count": 56,
   "id": "d23d9632",
   "metadata": {},
   "outputs": [
    {
     "data": {
      "text/plain": [
       "array([0., 0., 1., 0., 1., 1., 1., 0., 0., 1.])"
      ]
     },
     "execution_count": 56,
     "metadata": {},
     "output_type": "execute_result"
    }
   ],
   "source": [
    "y_predicted = calc_pred(X_st, W, 0.5)\n",
    "y_predicted"
   ]
  },
  {
   "cell_type": "code",
   "execution_count": 57,
   "id": "008da6d3",
   "metadata": {},
   "outputs": [
    {
     "data": {
      "text/plain": [
       "array([0., 0., 0., 0., 0., 0., 1., 0., 0., 0.])"
      ]
     },
     "execution_count": 57,
     "metadata": {},
     "output_type": "execute_result"
    }
   ],
   "source": [
    "y_predicted = calc_pred(X_st, W, 0.9)\n",
    "y_predicted"
   ]
  }
 ],
 "metadata": {
  "kernelspec": {
   "display_name": "Python 3 (ipykernel)",
   "language": "python",
   "name": "python3"
  },
  "language_info": {
   "codemirror_mode": {
    "name": "ipython",
    "version": 3
   },
   "file_extension": ".py",
   "mimetype": "text/x-python",
   "name": "python",
   "nbconvert_exporter": "python",
   "pygments_lexer": "ipython3",
   "version": "3.8.0"
  }
 },
 "nbformat": 4,
 "nbformat_minor": 5
}
